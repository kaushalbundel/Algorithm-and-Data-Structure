{
 "cells": [
  {
   "cell_type": "markdown",
   "id": "cf6e7dbf-60da-4d31-97af-4440edc77f9e",
   "metadata": {},
   "source": [
    "There are two types of complexity:\n",
    "- Time complexity \n",
    "- Space Complexity\n",
    "\n",
    "Big (o) notation: To represent the worst case scenario"
   ]
  },
  {
   "cell_type": "markdown",
   "id": "9b47abd5-ef39-4157-bd3c-223d249d176a",
   "metadata": {},
   "source": [
    "# Binary Search Algorithm"
   ]
  },
  {
   "cell_type": "markdown",
   "id": "9c00de1c-27fa-4628-bca4-837d8f8ead40",
   "metadata": {},
   "source": [
    "Steps to do binary search algorithm:\n",
    "1. Find the middle element of the list\n",
    "2. Check if the query that has been entered is the middle element\n",
    "3. If the query is less than than middle element then change the search to the left part of the list\n",
    "4. Repeat the process till the required query is found\n",
    "5. If the query is not found, populate -1 as the answer"
   ]
  },
  {
   "cell_type": "code",
   "execution_count": 85,
   "id": "5a0523f2-a45e-478b-8e88-830c80bc0d10",
   "metadata": {},
   "outputs": [],
   "source": [
    "input_list=[10,9,7,5,4,3]\n",
    "query=5"
   ]
  },
  {
   "cell_type": "code",
   "execution_count": 91,
   "id": "46da1577-2ce8-4efc-9628-d974355800d3",
   "metadata": {},
   "outputs": [],
   "source": [
    "#creating a function using Binary search algorithm\n",
    "\n",
    "def binary_search(input_list, query):\n",
    "    low=0\n",
    "    high=len(input_list)-1\n",
    "    while low <= high:\n",
    "        mid = (low+high)//2\n",
    "        if input_list[mid] == query:\n",
    "            return mid\n",
    "        elif input_list[mid] > query:\n",
    "            low = mid + 1\n",
    "        elif input_list[mid] < query:\n",
    "            high = mid - 1\n",
    "    return -1\n",
    "                \n",
    "\n",
    "            "
   ]
  },
  {
   "cell_type": "code",
   "execution_count": 92,
   "id": "a37ccc82-5aa7-415f-aa79-024a3f50b0b4",
   "metadata": {},
   "outputs": [
    {
     "data": {
      "text/plain": [
       "3"
      ]
     },
     "execution_count": 92,
     "metadata": {},
     "output_type": "execute_result"
    }
   ],
   "source": [
    "binary_search(input_list, query)"
   ]
  },
  {
   "cell_type": "code",
   "execution_count": 37,
   "id": "4ea2163e-1d5b-4933-8185-20694f223873",
   "metadata": {},
   "outputs": [],
   "source": [
    "#preparing the test cases\n",
    "\n",
    "tests=[]"
   ]
  },
  {
   "cell_type": "code",
   "execution_count": 38,
   "id": "39d4830f-c886-468e-a92d-311cfff97112",
   "metadata": {},
   "outputs": [],
   "source": [
    "tests.append({\n",
    "    'input': {\n",
    "        'cards': [13, 11, 10, 7, 4, 3, 1, 0],\n",
    "        'query': 1\n",
    "    },\n",
    "    'output': 6\n",
    "})\n",
    "tests.append({\n",
    "    'input': {\n",
    "        'cards': [4, 2, 1, -1],\n",
    "        'query': 4\n",
    "    },\n",
    "    'output': 0\n",
    "})\n"
   ]
  },
  {
   "cell_type": "code",
   "execution_count": 39,
   "id": "c7b512b1-6d70-4fb8-bc67-2361d5753dc6",
   "metadata": {},
   "outputs": [],
   "source": [
    "# query is the last element\n",
    "tests.append({\n",
    "    'input': {\n",
    "        'cards': [3, -1, -9, -127],\n",
    "        'query': -127\n",
    "    },\n",
    "    'output': 3\n",
    "})\n",
    "# cards contains just one element, query\n",
    "tests.append({\n",
    "    'input': {\n",
    "        'cards': [6],\n",
    "        'query': 6\n",
    "    },\n",
    "    'output': 0 \n",
    "})\n",
    "# cards does not contain query \n",
    "tests.append({\n",
    "    'input': {\n",
    "        'cards': [9, 7, 5, 2, -9],\n",
    "        'query': 4\n",
    "    },\n",
    "    'output': -1\n",
    "})\n",
    "# cards is empty\n",
    "tests.append({\n",
    "    'input': {\n",
    "        'cards': [],\n",
    "        'query': 7\n",
    "    },\n",
    "    'output': -1\n",
    "})\n",
    "# numbers can repeat in cards\n",
    "tests.append({\n",
    "    'input': {\n",
    "        'cards': [8, 8, 6, 6, 6, 6, 6, 3, 2, 2, 2, 0, 0, 0],\n",
    "        'query': 3\n",
    "    },\n",
    "    'output': 7\n",
    "})\n",
    "# query occurs multiple times\n",
    "tests.append({\n",
    "    'input': {\n",
    "        'cards': [8, 8, 6, 6, 6, 6, 6, 6, 3, 2, 2, 2, 0, 0, 0],\n",
    "        'query': 6\n",
    "    },\n",
    "    'output': 2\n",
    "})"
   ]
  },
  {
   "cell_type": "code",
   "execution_count": 40,
   "id": "b9b49586-a6db-4b67-a5ea-c6fdad4558c7",
   "metadata": {},
   "outputs": [
    {
     "data": {
      "text/plain": [
       "[{'input': {'cards': [13, 11, 10, 7, 4, 3, 1, 0], 'query': 1}, 'output': 6},\n",
       " {'input': {'cards': [4, 2, 1, -1], 'query': 4}, 'output': 0},\n",
       " {'input': {'cards': [3, -1, -9, -127], 'query': -127}, 'output': 3},\n",
       " {'input': {'cards': [6], 'query': 6}, 'output': 0},\n",
       " {'input': {'cards': [9, 7, 5, 2, -9], 'query': 4}, 'output': -1},\n",
       " {'input': {'cards': [], 'query': 7}, 'output': -1},\n",
       " {'input': {'cards': [8, 8, 6, 6, 6, 6, 6, 3, 2, 2, 2, 0, 0, 0], 'query': 3},\n",
       "  'output': 7},\n",
       " {'input': {'cards': [8, 8, 6, 6, 6, 6, 6, 6, 3, 2, 2, 2, 0, 0, 0],\n",
       "   'query': 6},\n",
       "  'output': 2}]"
      ]
     },
     "execution_count": 40,
     "metadata": {},
     "output_type": "execute_result"
    }
   ],
   "source": [
    "tests"
   ]
  },
  {
   "cell_type": "code",
   "execution_count": 41,
   "id": "264bceae-eea8-4d08-8353-ea1b660cc6d6",
   "metadata": {},
   "outputs": [],
   "source": [
    "#creating a function for looping through all the test cases\n",
    "\n",
    "def test_case_checker_func(input_term, query):\n",
    "    print(f\"The input term is {input_term} and the query is {query}\")\n",
    "    if input_term == query:\n",
    "        print(\"The test case has passed\")\n",
    "        print(\"\\n ------------\\n\")"
   ]
  },
  {
   "cell_type": "code",
   "execution_count": 93,
   "id": "71bbc17b-a1fc-4e70-a2d8-19686a839268",
   "metadata": {},
   "outputs": [
    {
     "name": "stdout",
     "output_type": "stream",
     "text": [
      "The input term is 6 and the query is 6\n",
      "The test case has passed\n",
      "\n",
      " ------------\n",
      "\n",
      "The input term is 0 and the query is 0\n",
      "The test case has passed\n",
      "\n",
      " ------------\n",
      "\n",
      "The input term is 3 and the query is 3\n",
      "The test case has passed\n",
      "\n",
      " ------------\n",
      "\n",
      "The input term is 0 and the query is 0\n",
      "The test case has passed\n",
      "\n",
      " ------------\n",
      "\n",
      "The input term is -1 and the query is -1\n",
      "The test case has passed\n",
      "\n",
      " ------------\n",
      "\n",
      "The input term is -1 and the query is -1\n",
      "The test case has passed\n",
      "\n",
      " ------------\n",
      "\n",
      "The input term is 7 and the query is 7\n",
      "The test case has passed\n",
      "\n",
      " ------------\n",
      "\n",
      "The input term is 7 and the query is 2\n"
     ]
    }
   ],
   "source": [
    "for test in tests:\n",
    "    test_case_checker_func(binary_search(test[\"input\"][\"cards\"],test[\"input\"][\"query\"]), test[\"output\"])"
   ]
  },
  {
   "cell_type": "code",
   "execution_count": null,
   "id": "0cd073b9-2c35-4be0-ab06-024b23f1e57a",
   "metadata": {},
   "outputs": [],
   "source": []
  }
 ],
 "metadata": {
  "kernelspec": {
   "display_name": "Python 3 (ipykernel)",
   "language": "python",
   "name": "python3"
  },
  "language_info": {
   "codemirror_mode": {
    "name": "ipython",
    "version": 3
   },
   "file_extension": ".py",
   "mimetype": "text/x-python",
   "name": "python",
   "nbconvert_exporter": "python",
   "pygments_lexer": "ipython3",
   "version": "3.9.13"
  }
 },
 "nbformat": 4,
 "nbformat_minor": 5
}
