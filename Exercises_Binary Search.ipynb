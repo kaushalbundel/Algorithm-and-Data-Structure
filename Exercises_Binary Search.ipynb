{
 "cells": [
  {
   "attachments": {},
   "cell_type": "markdown",
   "metadata": {},
   "source": [
    "# Problem Statememt\n",
    "\n",
    "Given a sorted rotated list, one needs to define how many times the list is rotated. Rotation means that the last element is brought to the first place and the operation continues. For eg. \n",
    "\n",
    "list 1 =[1, 2, 4, 5] #This list is the original list\n",
    "\n",
    "list rotated = [4, 5, 2, 1] #this list is a rotated list that has been rotated 2 times"
   ]
  },
  {
   "attachments": {},
   "cell_type": "markdown",
   "metadata": {},
   "source": [
    "Implementation 1: Here I have used logic that first creates a sorted list and then on the basis of the sorted list tries to find out the number of rotations."
   ]
  },
  {
   "cell_type": "code",
   "execution_count": 10,
   "metadata": {},
   "outputs": [],
   "source": [
    "def count_rotated_list(rotated_list: list)->str:\n",
    "    ''' The function takes a list and finds out how many times the list is rotated'''\n",
    "    sorted_list = sorted(rotated_list)\n",
    "    count_rotation=0\n",
    "    # moving the number in the sorted list from front to back\n",
    "    if sorted_list == rotated_list:  # adding the test case where the list was already sorted\n",
    "        return \"The list is already sorted\"\n",
    "    else:\n",
    "        while sorted_list != rotated_list:\n",
    "            sorted_list = sorted_list[-1:] + sorted_list[:-1]\n",
    "            count_rotation +=1\n",
    "        return count_rotation\n",
    "    \n",
    "    \n",
    "\n"
   ]
  },
  {
   "attachments": {},
   "cell_type": "markdown",
   "metadata": {},
   "source": [
    "Test Case 1: When the list is already sorted"
   ]
  },
  {
   "cell_type": "code",
   "execution_count": 11,
   "metadata": {},
   "outputs": [
    {
     "data": {
      "text/plain": [
       "'The list is already sorted'"
      ]
     },
     "execution_count": 11,
     "metadata": {},
     "output_type": "execute_result"
    }
   ],
   "source": [
    "count_rotated_list(rotated_list = [1,2, 3, 5])"
   ]
  },
  {
   "attachments": {},
   "cell_type": "markdown",
   "metadata": {},
   "source": [
    "Test Case 2: When the list is rotated\n"
   ]
  },
  {
   "cell_type": "code",
   "execution_count": 12,
   "metadata": {},
   "outputs": [
    {
     "data": {
      "text/plain": [
       "1"
      ]
     },
     "execution_count": 12,
     "metadata": {},
     "output_type": "execute_result"
    }
   ],
   "source": [
    "count_rotated_list(rotated_list = [5, 1, 2, 3])"
   ]
  },
  {
   "attachments": {},
   "cell_type": "markdown",
   "metadata": {},
   "source": [
    "Test Case 3: When the list is not a rotated list"
   ]
  },
  {
   "cell_type": "code",
   "execution_count": 13,
   "metadata": {},
   "outputs": [
    {
     "ename": "KeyboardInterrupt",
     "evalue": "",
     "output_type": "error",
     "traceback": [
      "\u001b[0;31m---------------------------------------------------------------------------\u001b[0m",
      "\u001b[0;31mKeyboardInterrupt\u001b[0m                         Traceback (most recent call last)",
      "Cell \u001b[0;32mIn[13], line 1\u001b[0m\n\u001b[0;32m----> 1\u001b[0m count_rotated_list(rotated_list \u001b[39m=\u001b[39m [\u001b[39m2\u001b[39m,\u001b[39m1\u001b[39m,\u001b[39m3\u001b[39m,\u001b[39m5\u001b[39m])\n",
      "Cell \u001b[0;32mIn[10], line 9\u001b[0m, in \u001b[0;36mcount_rotated_list\u001b[0;34m(rotated_list)\u001b[0m\n\u001b[1;32m      7\u001b[0m     \u001b[39mreturn\u001b[39;00m \u001b[39m\"\u001b[39m\u001b[39mThe list is already sorted\u001b[39m\u001b[39m\"\u001b[39m\n\u001b[1;32m      8\u001b[0m \u001b[39melse\u001b[39;00m:\n\u001b[0;32m----> 9\u001b[0m     \u001b[39mwhile\u001b[39;00m sorted_list \u001b[39m!=\u001b[39m rotated_list:\n\u001b[1;32m     10\u001b[0m         sorted_list \u001b[39m=\u001b[39m sorted_list[\u001b[39m-\u001b[39m\u001b[39m1\u001b[39m:] \u001b[39m+\u001b[39m sorted_list[:\u001b[39m-\u001b[39m\u001b[39m1\u001b[39m]\n\u001b[1;32m     11\u001b[0m         count_rotation \u001b[39m+\u001b[39m\u001b[39m=\u001b[39m\u001b[39m1\u001b[39m\n",
      "\u001b[0;31mKeyboardInterrupt\u001b[0m: "
     ]
    }
   ],
   "source": [
    "count_rotated_list(rotated_list = [2,1,3,5])"
   ]
  },
  {
   "attachments": {},
   "cell_type": "markdown",
   "metadata": {},
   "source": [
    "Test Case 4: When multiple elements have the same value in the list"
   ]
  },
  {
   "cell_type": "code",
   "execution_count": 14,
   "metadata": {},
   "outputs": [
    {
     "data": {
      "text/plain": [
       "1"
      ]
     },
     "execution_count": 14,
     "metadata": {},
     "output_type": "execute_result"
    }
   ],
   "source": [
    "count_rotated_list( rotated_list = [5,1,1,2])"
   ]
  },
  {
   "attachments": {},
   "cell_type": "markdown",
   "metadata": {},
   "source": [
    "Implementation 2: In the implementation, we would be using Binary search.\n",
    "\n",
    "Psuedo code:\n",
    "- find out the largest number present in the list\n",
    "- find the current position of that number in the list\n",
    "- the current position+1 will be the number of times the list is rotated\n",
    "- if current position + 1 = the length of the list then the list is not rotated"
   ]
  },
  {
   "cell_type": "code",
   "execution_count": 30,
   "metadata": {},
   "outputs": [],
   "source": [
    "# Sample list\n",
    "rot_list = [7,2,4,5,6] # this list is rotated by 1"
   ]
  },
  {
   "cell_type": "code",
   "execution_count": 16,
   "metadata": {},
   "outputs": [
    {
     "data": {
      "text/plain": [
       "7"
      ]
     },
     "execution_count": 16,
     "metadata": {},
     "output_type": "execute_result"
    }
   ],
   "source": [
    "max(rot_list)"
   ]
  },
  {
   "cell_type": "code",
   "execution_count": 35,
   "metadata": {},
   "outputs": [],
   "source": [
    "def implement_binary_search(rotated_list: list)-> str:\n",
    "    max_num = max(rotated_list)\n",
    "    low_pos = 0\n",
    "    high_pos = len(rotated_list) -1\n",
    "    while low_pos<=high_pos:\n",
    "        \n",
    "        mid_pos = (low_pos + high_pos) // 2\n",
    "\n",
    "        if rotated_list[mid_pos] == max_num:\n",
    "            return mid_pos + 1\n",
    "        elif rotated_list[mid_pos] < max_num:\n",
    "            high_pos = mid_pos -1\n",
    "        elif rotated_list > max_num:\n",
    "            low_pos = mid_pos + 1\n",
    "    return \"The list is already sorted\"\n",
    "\n",
    "\n",
    "\n",
    "\n"
   ]
  },
  {
   "attachments": {},
   "cell_type": "markdown",
   "metadata": {},
   "source": [
    "Test Case 1"
   ]
  },
  {
   "cell_type": "code",
   "execution_count": 31,
   "metadata": {},
   "outputs": [
    {
     "data": {
      "text/plain": [
       "1"
      ]
     },
     "execution_count": 31,
     "metadata": {},
     "output_type": "execute_result"
    }
   ],
   "source": [
    "implement_binary_search(rot_list) #This is equal to the sample list defined earlier"
   ]
  },
  {
   "attachments": {},
   "cell_type": "markdown",
   "metadata": {},
   "source": [
    "Test Case 2"
   ]
  },
  {
   "cell_type": "code",
   "execution_count": 40,
   "metadata": {},
   "outputs": [
    {
     "data": {
      "text/plain": [
       "'The list is already sorted'"
      ]
     },
     "execution_count": 40,
     "metadata": {},
     "output_type": "execute_result"
    }
   ],
   "source": [
    "implement_binary_search([1,2,3,4,5])"
   ]
  },
  {
   "attachments": {},
   "cell_type": "markdown",
   "metadata": {},
   "source": [
    "Implementation 3: Including the condition to check if the list is a rotated list "
   ]
  },
  {
   "cell_type": "code",
   "execution_count": 42,
   "metadata": {},
   "outputs": [],
   "source": [
    "def improved_rotated_binary_search(rotated_list: list)-> str:\n",
    "    max_num = max(rotated_list)\n",
    "    low_pos = 0\n",
    "    high_pos = len(rotated_list) -1\n",
    "    if rotated_list[low_pos] > rotated_list[high_pos]:\n",
    "        while low_pos<=high_pos:\n",
    "            mid_pos = (low_pos + high_pos) // 2\n",
    "            if rotated_list[mid_pos] == max_num:\n",
    "                return mid_pos + 1\n",
    "            elif rotated_list[mid_pos] < max_num:\n",
    "                high_pos = mid_pos -1\n",
    "            elif rotated_list > max_num:\n",
    "                low_pos = mid_pos + 1\n",
    "        return \"The list is already sorted\"\n",
    "    else: return \"The list is not a sorted rotated list. Check the list\""
   ]
  },
  {
   "cell_type": "code",
   "execution_count": 43,
   "metadata": {},
   "outputs": [
    {
     "data": {
      "text/plain": [
       "'The list is not a sorted rotated list. Check the list'"
      ]
     },
     "execution_count": 43,
     "metadata": {},
     "output_type": "execute_result"
    }
   ],
   "source": [
    "improved_rotated_binary_search(rotated_list = [2,1,3,5])"
   ]
  },
  {
   "attachments": {},
   "cell_type": "markdown",
   "metadata": {},
   "source": [
    "This  new implementation improves the first implementation as we were not able to check the \"not rotated list\" condition earlier."
   ]
  },
  {
   "cell_type": "markdown",
   "metadata": {},
   "source": []
  }
 ],
 "metadata": {
  "kernelspec": {
   "display_name": "Python 3",
   "language": "python",
   "name": "python3"
  },
  "language_info": {
   "codemirror_mode": {
    "name": "ipython",
    "version": 3
   },
   "file_extension": ".py",
   "mimetype": "text/x-python",
   "name": "python",
   "nbconvert_exporter": "python",
   "pygments_lexer": "ipython3",
   "version": "3.11.0"
  },
  "orig_nbformat": 4
 },
 "nbformat": 4,
 "nbformat_minor": 2
}
